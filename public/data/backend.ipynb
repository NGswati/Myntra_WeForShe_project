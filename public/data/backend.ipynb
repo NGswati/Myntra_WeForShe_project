{
 "cells": [
  {
   "cell_type": "code",
   "execution_count": null,
   "metadata": {},
   "outputs": [],
   "source": [
    "# mysql -u root -p"
   ]
  },
  {
   "cell_type": "markdown",
   "metadata": {},
   "source": [
    "Create Mysql database, tables and Insert the Information"
   ]
  },
  {
   "cell_type": "code",
   "execution_count": null,
   "metadata": {},
   "outputs": [],
   "source": [
    "create database myntra_data;\n",
    "use myntra_data;\n"
   ]
  },
  {
   "cell_type": "code",
   "execution_count": null,
   "metadata": {},
   "outputs": [],
   "source": [
    "show tables;\n"
   ]
  },
  {
   "cell_type": "code",
   "execution_count": null,
   "metadata": {},
   "outputs": [],
   "source": [
    "CREATE TABLE orders (\n",
    "    id INT AUTO_INCREMENT PRIMARY KEY,\n",
    "    user_id INT,\n",
    "    product_id VARCHAR(10),\n",
    "    price DECIMAL(10, 2) NOT NULL,\n",
    "    created_at TIMESTAMP DEFAULT CURRENT_TIMESTAMP,\n",
    "    FOREIGN KEY (user_id) REFERENCES users(id),\n",
    "    FOREIGN KEY (product_id) REFERENCES products(id)\n",
    ");\n",
    "\n",
    "INSERT INTO orders (user_id, product_id, price) VALUES (1, 'PROD123', 999.00);\n"
   ]
  },
  {
   "cell_type": "code",
   "execution_count": null,
   "metadata": {},
   "outputs": [],
   "source": [
    "CREATE TABLE products (\n",
    "    id VARCHAR(10) PRIMARY KEY,\n",
    "    name VARCHAR(255) NOT NULL,\n",
    "    base_price DECIMAL(10, 2) NOT NULL,\n",
    "    min_price DECIMAL(10, 2) NOT NULL,\n",
    "    quantity INT NOT NULL\n",
    ");\n"
   ]
  },
  {
   "cell_type": "code",
   "execution_count": null,
   "metadata": {},
   "outputs": [],
   "source": [
    "> INSERT INTO products (id, name, base_price, min_price, quantity) VALUES\n",
    "    -> ('001', 'Nikon COOLPIX A300 Point & Shoot Camera 20.1 MP', 606,600, 1400),\n",
    "    -> ('002', 'Blue Heaven Festive Fair Tone Make Up Kit - Vanilla (10Pcs)', 1507,1457, 24),\n",
    "    -> ('003', 'Calcuttacycleco Hero Cycles For Mens And Boys 27.5 T Mountain/Hardtail Cycle', 495,400, 249),\n",
    "    -> ('004', 'macbook m1', 89999, 69999, 10),\n",
    "    -> ('005', 'Pure Cotton T-shirt',  489,399, 3200),\n",
    "    -> ('006', 'Men ReactX watch', 14995, 14995, 0),\n",
    "    -> ('007', 'Men Slim Fit Regular Shorts',  639, 600, 388),\n",
    "    -> ('008', 'Men Fresh Deodrant 150ml', 142, 120, 5200);"
   ]
  },
  {
   "cell_type": "code",
   "execution_count": null,
   "metadata": {},
   "outputs": [],
   "source": [
    "> CREATE TABLE users (\n",
    "    ->     id INT AUTO_INCREMENT PRIMARY KEY,\n",
    "    ->     username VARCHAR(255) NOT NULL,\n",
    "    ->     email VARCHAR(255) NOT NULL UNIQUE,\n",
    "    ->     password_hash VARCHAR(255) NOT NULL,\n",
    "    ->     SoTD_count INT DEFAULT 0,\n",
    "    ->     total_purchase_count INT DEFAULT 0,\n",
    "    ->     total_credit_points INT DEFAULT 0,\n",
    "    ->     created_at TIMESTAMP DEFAULT CURRENT_TIMESTAMP,\n",
    "    ->     updated_at TIMESTAMP DEFAULT CURRENT_TIMESTAMP ON UPDATE CURRENT_TIMESTAMP\n",
    "    -> );"
   ]
  },
  {
   "cell_type": "code",
   "execution_count": null,
   "metadata": {},
   "outputs": [],
   "source": [
    "> INSERT INTO users (username, email, password_hash, SoTD_count, total_purchase_count, total_credit_points)\n",
    "    -> VALUES\n",
    "    -> ('john_doe', 'john@example.com', '$2b$10$0h1lJ7Y/r8w/wH1JmXJG6Ou8Q6TfTTpjx4YG1l8ff4O8YhYb9G9Ii', 1, 5, 100),\n",
    "    -> ('jane_smith', 'jane@example.com', '$2b$10$0h1lJ7Y/r8w/wH1JmXJG6Ou8Q6TfTTpjx4YG1l8ff4O8YhYb9G9Ii', 20, 11, 200),\n",
    "    -> ('alice_jones', 'alice@example.com', '$2b$10$0h1lJ7Y/r8w/wH1JmXJG6Ou8Q6TfTTpjx4YG1l8ff4O8YhYb9G9Ii', 3, 25, 300),\n",
    "    -> ('bob_brown', 'bob@example.com', '$2b$10$0h1lJ7Y/r8w/wH1JmXJG6Ou8Q6TfTTpjx4YG1l8ff4O8YhYb9G9Ii', 11, 15, 400);"
   ]
  },
  {
   "cell_type": "markdown",
   "metadata": {},
   "source": [
    "Output from the Api"
   ]
  },
  {
   "cell_type": "code",
   "execution_count": null,
   "metadata": {},
   "outputs": [],
   "source": [
    "mysql> show tables;\n",
    "+-----------------------+\n",
    "| Tables_in_myntra_data |\n",
    "+-----------------------+\n",
    "| arm_rewards           |\n",
    "| orders                |\n",
    "| products              |\n",
    "| users                 |\n",
    "+-----------------------+\n",
    "4 rows in set (0.01 sec)"
   ]
  },
  {
   "cell_type": "code",
   "execution_count": null,
   "metadata": {},
   "outputs": [],
   "source": [
    "mysql> select * from orders;\n",
    "+----+---------+------------+----------+---------------------+\n",
    "| id | user_id | product_id | price    | created_at          |\n",
    "+----+---------+------------+----------+---------------------+\n",
    "|  2 | 1       | PROD123    |   999.00 | 2024-07-14 03:40:13 |\n",
    "|  3 | 1       | PROD123    |   999.00 | 2024-07-14 03:55:46 |\n",
    "|  4 | 3       | 004        | 89999.00 | 2024-07-14 14:33:13 |\n",
    "|  5 | 3       | 004        | 89999.00 | 2024-07-15 00:22:12 |\n",
    "|  6 | 3       | 004        | 89999.00 | 2024-07-15 10:58:10 |\n",
    "|  7 | 3       | 004        | 89999.00 | 2024-07-15 11:12:17 |\n",
    "|  8 | 3       | 004        | 89699.00 | 2024-07-15 11:16:33 |\n",
    "|  9 | 3       | 004        | 75999.00 | 2024-07-15 11:19:48 |\n",
    "| 10 | 2       | 007        |   635.10 | 2024-07-15 11:23:09 |\n",
    "| 11 | 2       | 001        |   600.00 | 2024-07-15 11:24:48 |\n",
    "| 12 | 3       | 004        | 89200.00 | 2024-07-15 16:51:42 |\n",
    "| 13 | 3       | 004        | 89000.00 | 2024-07-15 18:26:56 |\n",
    "| 14 | 3       | 004        | 78890.00 | 2024-07-15 20:49:03 |\n",
    "+----+---------+------------+----------+---------------------+\n",
    "13 rows in set (0.02 sec)"
   ]
  },
  {
   "cell_type": "code",
   "execution_count": null,
   "metadata": {},
   "outputs": [],
   "source": [
    "mysql> select * from products;\n",
    "+---------+------------------------------------------------------------------------------+------------+-----------+----------+\n",
    "| id      | name                                                                         | base_price | min_price | quantity |\n",
    "+---------+------------------------------------------------------------------------------+------------+-----------+----------+\n",
    "| 001     | Nikon COOLPIX A300 Point & Shoot Camera 20.1 MP                              |     606.00 |    600.00 |     1399 |\n",
    "| 002     | Blue Heaven Festive Fair Tone Make Up Kit - Vanilla (10Pcs)                  |    1507.00 |   1457.00 |       24 |\n",
    "| 003     | Calcuttacycleco Hero Cycles For Mens And Boys 27.5 T Mountain/Hardtail Cycle |     495.00 |    400.00 |      249 |\n",
    "| 004     | macbook m1                                                                   |   89999.00 |  69999.00 |        1 |\n",
    "| 005     | Pure Cotton T-shirt                                                          |     489.00 |    399.00 |     3200 |\n",
    "| 006     | Men ReactX watch                                                             |   14995.00 |  14995.00 |        0 |\n",
    "| 007     | Men Slim Fit Regular Shorts                                                  |     639.00 |    600.00 |      387 |\n",
    "| 008     | Men Fresh Deodrant 150ml                                                     |     142.00 |    120.00 |     5200 |\n",
    "| PROD123 | Sample Product                                                               |     999.00 |    799.00 |       98 |\n",
    "| PROD133 |  duct tape                                                                   |    2999.00 |   1199.00 |       10 |\n",
    "+---------+------------------------------------------------------------------------------+------------+-----------+----------+\n",
    "10 rows in set (0.00 sec)"
   ]
  },
  {
   "cell_type": "code",
   "execution_count": null,
   "metadata": {},
   "outputs": [],
   "source": [
    "mysql> mysql> select * from users;\n",
    "+----+-------------+-------------------+--------------------------------------------------------------+------------+----------------------+---------------------+---------------------+---------------------+\n",
    "| id | username    | email             | password_hash                                                | SoTD_count | total_purchase_count | total_credit_points | created_at          | updated_at          |\n",
    "+----+-------------+-------------------+--------------------------------------------------------------+------------+----------------------+---------------------+---------------------+---------------------+\n",
    "|  1 | john_doe    | john@example.com  | $2b$10$0h1lJ7Y/r8w/wH1JmXJG6Ou8Q6TfTTpjx4YG1l8ff4O8YhYb9G9Ii |         19 |                    5 |                 136 | 2024-07-14 03:51:42 | 2024-07-15 21:58:25 |\n",
    "|  2 | jane_smith  | jane@example.com  | $2b$10$0h1lJ7Y/r8w/wH1JmXJG6Ou8Q6TfTTpjx4YG1l8ff4O8YhYb9G9Ii |         20 |                   11 |                 200 | 2024-07-14 03:51:42 | 2024-07-14 03:51:42 |\n",
    "|  3 | alice_jones | alice@example.com | $2b$10$0h1lJ7Y/r8w/wH1JmXJG6Ou8Q6TfTTpjx4YG1l8ff4O8YhYb9G9Ii |          3 |                   25 |                 300 | 2024-07-14 03:51:42 | 2024-07-14 03:51:42 |\n",
    "|  4 | bob_brown   | bob@example.com   | $2b$10$0h1lJ7Y/r8w/wH1JmXJG6Ou8Q6TfTTpjx4YG1l8ff4O8YhYb9G9Ii |         11 |                   15 |                 400 | 2024-07-14 03:51:42 | 2024-07-14 03:51:42 |\n",
    "+----+-------------+-------------------+--------------------------------------------------------------+------------+----------------------+---------------------+---------------------+---------------------+\n",
    "4 rows in set (0.01 sec)"
   ]
  }
 ],
 "metadata": {
  "language_info": {
   "name": "python"
  }
 },
 "nbformat": 4,
 "nbformat_minor": 2
}
